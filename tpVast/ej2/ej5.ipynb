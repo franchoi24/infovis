{
 "cells": [
  {
   "cell_type": "code",
   "execution_count": 1,
   "metadata": {},
   "outputs": [
    {
     "name": "stdout",
     "output_type": "stream",
     "text": [
      "          availableBalance  weeklyExtraBudget\n",
      "0             32045.062088       16324.954047\n",
      "1             32045.062088       16324.954047\n",
      "2             32045.062088       16324.954047\n",
      "3             32045.062088       16324.954047\n",
      "4             32045.062088       16324.954047\n",
      "...                    ...                ...\n",
      "11518996       1193.844403         458.626703\n",
      "11518997       1193.844403         458.626703\n",
      "11518998       1193.844403         458.626703\n",
      "11518999       1193.844403         458.626703\n",
      "11519000       1193.844403         458.626703\n",
      "\n",
      "[11519001 rows x 2 columns]\n"
     ]
    }
   ],
   "source": [
    "#availableBalance vs weeklyExtraBudget\n",
    "\n",
    "import pandas as pd\n",
    "\n",
    "df = pd.read_csv('../media/Merged.csv', usecols=[16,20], sep=\",\", header=0)\n",
    "#df.sort_values(by=['joviality'],ascending=True, inplace=True)\n",
    "\n",
    "print(df)\n",
    "df.to_csv('ej51.csv')"
   ]
  }
 ],
 "metadata": {
  "interpreter": {
   "hash": "31f2aee4e71d21fbe5cf8b01ff0e069b9275f58929596ceb00d14d90e3e16cd6"
  },
  "kernelspec": {
   "display_name": "Python 3.8.9 64-bit",
   "language": "python",
   "name": "python3"
  },
  "language_info": {
   "codemirror_mode": {
    "name": "ipython",
    "version": 3
   },
   "file_extension": ".py",
   "mimetype": "text/x-python",
   "name": "python",
   "nbconvert_exporter": "python",
   "pygments_lexer": "ipython3",
   "version": "3.8.9"
  },
  "orig_nbformat": 4
 },
 "nbformat": 4,
 "nbformat_minor": 2
}
