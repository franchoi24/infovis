{
 "cells": [
  {
   "cell_type": "code",
   "execution_count": 2,
   "metadata": {},
   "outputs": [
    {
     "name": "stdout",
     "output_type": "stream",
     "text": [
      "          age  availableBalance\n",
      "0          36      32045.062088\n",
      "1          36      32045.062088\n",
      "2          36      32045.062088\n",
      "3          36      32045.062088\n",
      "4          36      32045.062088\n",
      "...       ...               ...\n",
      "11518996   40       1193.844403\n",
      "11518997   40       1193.844403\n",
      "11518998   40       1193.844403\n",
      "11518999   40       1193.844403\n",
      "11519000   40       1193.844403\n",
      "\n",
      "[11519001 rows x 2 columns]\n"
     ]
    }
   ],
   "source": [
    "## age vs available money\n",
    "import pandas as pd\n",
    "\n",
    "df = pd.read_csv('../media/Merged.csv', usecols=[5,16], sep=\",\", header=0)\n",
    "#df.sort_values(by=['joviality'],ascending=True, inplace=True)\n",
    "\n",
    "print(df)\n",
    "df.to_csv('ej31.csv')"
   ]
  }
 ],
 "metadata": {
  "interpreter": {
   "hash": "31f2aee4e71d21fbe5cf8b01ff0e069b9275f58929596ceb00d14d90e3e16cd6"
  },
  "kernelspec": {
   "display_name": "Python 3.8.9 64-bit",
   "language": "python",
   "name": "python3"
  },
  "language_info": {
   "codemirror_mode": {
    "name": "ipython",
    "version": 3
   },
   "file_extension": ".py",
   "mimetype": "text/x-python",
   "name": "python",
   "nbconvert_exporter": "python",
   "pygments_lexer": "ipython3",
   "version": "3.8.9"
  },
  "orig_nbformat": 4
 },
 "nbformat": 4,
 "nbformat_minor": 2
}
