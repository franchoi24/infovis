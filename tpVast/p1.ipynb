{
 "cells": [
  {
   "cell_type": "code",
   "execution_count": 1,
   "metadata": {
    "collapsed": true
   },
   "outputs": [],
   "source": [
    "import pandas as pd\n",
    "\n",
    "path = './PartLog.csv'\n",
    "df = pd.read_csv(path, index_col=None, header=0)"
   ]
  },
  {
   "cell_type": "code",
   "execution_count": 4,
   "outputs": [
    {
     "name": "stdout",
     "output_type": "stream",
     "text": [
      "Id                                                               1\n",
      "timestamp                                     2022-06-28T02:15:00Z\n",
      "currentLocation      POINT (-3774.8606285405017 6642.571051773959)\n",
      "participantId                                                890.0\n",
      "currentMode                                                 AtHome\n",
      "hungerStatus                                        BecomingHungry\n",
      "sleepStatus                                               Sleeping\n",
      "apartmentId                                                 1378.0\n",
      "availableBalance                                       9758.895075\n",
      "jobId                                                       1208.0\n",
      "financialStatus                                             Stable\n",
      "dailyFoodBudget                                               20.0\n",
      "weeklyExtraBudget                                      8974.310945\n",
      "Name: 1, dtype: object\n"
     ]
    }
   ],
   "source": [
    "print(df.iloc[1])\n"
   ],
   "metadata": {
    "collapsed": false,
    "pycharm": {
     "name": "#%%\n"
    }
   }
  }
 ],
 "metadata": {
  "kernelspec": {
   "display_name": "Python 3",
   "language": "python",
   "name": "python3"
  },
  "language_info": {
   "codemirror_mode": {
    "name": "ipython",
    "version": 2
   },
   "file_extension": ".py",
   "mimetype": "text/x-python",
   "name": "python",
   "nbconvert_exporter": "python",
   "pygments_lexer": "ipython2",
   "version": "2.7.6"
  }
 },
 "nbformat": 4,
 "nbformat_minor": 0
}