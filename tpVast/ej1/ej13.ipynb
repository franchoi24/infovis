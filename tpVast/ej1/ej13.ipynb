{
 "cells": [
  {
   "cell_type": "code",
   "execution_count": 11,
   "metadata": {
    "collapsed": true
   },
   "outputs": [],
   "source": [
    "import pandas as pd\n",
    "import numpy as np\n",
    "\n",
    "\n",
    "df = pd.read_csv('../media/FinancialJournal.csv', sep=\",\", header=0)\n",
    "df['timestamp'] = pd.to_datetime(df.timestamp)\n",
    "df.sort_values(by=['timestamp','participantId'],ascending=True, inplace=True)\n",
    "data = df.to_numpy()"
   ]
  },
  {
   "cell_type": "code",
   "execution_count": 12,
   "outputs": [],
   "source": [
    "cats = df.category.unique()\n",
    "counter = {}\n",
    "amount = {}\n",
    "for cat in cats:\n",
    "    counter[cat] = 0\n",
    "    amount[cat] = 0\n",
    "\n",
    "for row in data:\n",
    "    counter[row[3]] += 1\n",
    "    amount[row[3]] += row[4]\n",
    "header = ['category', 'count', 'amountReceived']"
   ],
   "metadata": {
    "collapsed": false,
    "pycharm": {
     "name": "#%%\n"
    }
   }
  },
  {
   "cell_type": "code",
   "execution_count": 13,
   "outputs": [
    {
     "name": "stdout",
     "output_type": "stream",
     "text": [
      "Finish\n"
     ]
    }
   ],
   "source": [
    "import csv\n",
    "#from io import StringIO\n",
    "\n",
    "with open('/Users/franciscochoi/Desktop/infovis/tpVast/res/ej13.csv', 'w', encoding='UTF8', newline='') as f:\n",
    "    writer = csv.writer(f)\n",
    "    header.insert(0, 'ParticipantId')\n",
    "    writer.writerow(header)\n",
    "\n",
    "    it = 0\n",
    "    for i in range(len(counter)):\n",
    "        #np.savetxt(s, row, fmt='%.5f', newline=\",\")\n",
    "        f.write(cats[it] + \",\" + str(counter[cats[it]]) + \",\" + str(amount[cats[it]])  + \"\\n\")\n",
    "        it += 1\n",
    "\n",
    "    f.close()\n",
    "\n",
    "print(\"Finish\")\n"
   ],
   "metadata": {
    "collapsed": false,
    "pycharm": {
     "name": "#%%\n"
    }
   }
  }
 ],
 "metadata": {
  "kernelspec": {
   "display_name": "Python 3",
   "language": "python",
   "name": "python3"
  },
  "language_info": {
   "codemirror_mode": {
    "name": "ipython",
    "version": 2
   },
   "file_extension": ".py",
   "mimetype": "text/x-python",
   "name": "python",
   "nbconvert_exporter": "python",
   "pygments_lexer": "ipython2",
   "version": "2.7.6"
  }
 },
 "nbformat": 4,
 "nbformat_minor": 0
}