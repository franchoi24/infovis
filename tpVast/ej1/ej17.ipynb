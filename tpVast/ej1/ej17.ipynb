{
 "cells": [
  {
   "cell_type": "code",
   "execution_count": 16,
   "metadata": {
    "collapsed": true
   },
   "outputs": [],
   "source": []
  },
  {
   "cell_type": "code",
   "execution_count": 16,
   "outputs": [],
   "source": [],
   "metadata": {
    "collapsed": false,
    "pycharm": {
     "name": "#%%\n"
    }
   }
  },
  {
   "cell_type": "code",
   "execution_count": 17,
   "outputs": [],
   "source": [
    "import pandas as pd\n",
    "\n",
    "\n",
    "finJ = pd.read_csv('../media/FinancialJournal.csv', sep=\",\", header=0)\n",
    "part = pd.read_csv('../media/Participants.csv', sep=\",\", header=0)\n",
    "df = pd.merge(part, finJ, on=\"participantId\", how=\"inner\")"
   ],
   "metadata": {
    "collapsed": false,
    "pycharm": {
     "name": "#%%\n"
    }
   }
  },
  {
   "cell_type": "code",
   "execution_count": 18,
   "outputs": [
    {
     "name": "stdout",
     "output_type": "stream",
     "text": [
      "id_x                                 0\n",
      "participantId                        0\n",
      "householdSize                        3\n",
      "haveKids                          True\n",
      "age                                 36\n",
      "educationLevel     HighSchoolOrCollege\n",
      "interestGroup                        H\n",
      "joviality                     0.001627\n",
      "id_y                                 1\n",
      "timestamp         2022-03-01T00:00:00Z\n",
      "category                       Shelter\n",
      "amount                     -554.988622\n",
      "Name: 1, dtype: object\n",
      "{3: {'Wage': 0, 'Shelter': 0, 'Education': 0, 'Food': 0, 'Recreation': 0, 'RentAdjustment': 0, 'total': 0}, 2: {'Wage': 0, 'Shelter': 0, 'Education': 0, 'Food': 0, 'Recreation': 0, 'RentAdjustment': 0, 'total': 0}, 1: {'Wage': 0, 'Shelter': 0, 'Education': 0, 'Food': 0, 'Recreation': 0, 'RentAdjustment': 0, 'total': 0}}\n"
     ]
    }
   ],
   "source": [
    "data = df.to_numpy()\n",
    "cats = df.category.unique()\n",
    "hS = df.householdSize.unique()\n",
    "\n",
    "res = {}\n",
    "\n",
    "for s in hS:\n",
    "    res[s] = {}\n",
    "    for cat in cats:\n",
    "        res[s][cat] = 0\n",
    "    res[s]['total'] = 0\n",
    "\n",
    "\n",
    "print(df.loc[1])\n",
    "print(res)\n",
    "for row in data:\n",
    "    res[row[2]][row[10]] += row[11]\n",
    "    res[row[2]]['total'] += row[11]"
   ],
   "metadata": {
    "collapsed": false,
    "pycharm": {
     "name": "#%%\n"
    }
   }
  },
  {
   "cell_type": "code",
   "execution_count": 19,
   "outputs": [
    {
     "name": "stdout",
     "output_type": "stream",
     "text": [
      "Finish\n"
     ]
    }
   ],
   "source": [
    "import csv\n",
    "import numpy as np\n",
    "\n",
    "\n",
    "with open('/Users/franciscochoi/Desktop/infovis/tpVast/res/ej17.csv', 'w', encoding='UTF8', newline='') as f:\n",
    "    writer = csv.writer(f)\n",
    "    f.write(\"householdSize\" + \",\")\n",
    "    np.append(cats, 'amountReceived')\n",
    "    writer.writerow(cats)\n",
    "    it = 0\n",
    "    for k in res:\n",
    "        strRow = str(hS[it])\n",
    "        for dk in res[k]:\n",
    "            strRow += \",\" + str(res[k][dk])\n",
    "        strRow += \"\\n\"\n",
    "        f.write(strRow)\n",
    "        it += 1\n",
    "\n",
    "\n",
    "\n",
    "\n",
    "print(\"Finish\")"
   ],
   "metadata": {
    "collapsed": false,
    "pycharm": {
     "name": "#%%\n"
    }
   }
  }
 ],
 "metadata": {
  "kernelspec": {
   "display_name": "Python 3",
   "language": "python",
   "name": "python3"
  },
  "language_info": {
   "codemirror_mode": {
    "name": "ipython",
    "version": 2
   },
   "file_extension": ".py",
   "mimetype": "text/x-python",
   "name": "python",
   "nbconvert_exporter": "python",
   "pygments_lexer": "ipython2",
   "version": "2.7.6"
  }
 },
 "nbformat": 4,
 "nbformat_minor": 0
}