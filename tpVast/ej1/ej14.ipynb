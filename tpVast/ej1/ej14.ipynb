{
 "cells": [
  {
   "cell_type": "code",
   "execution_count": 34,
   "metadata": {
    "collapsed": true,
    "pycharm": {
     "name": "#%%\n"
    }
   },
   "outputs": [],
   "source": [
    "import pandas as pd\n",
    "import numpy as np\n",
    "\n",
    "\n",
    "df = pd.read_csv('../media/FinancialJournal.csv', sep=\",\", header=0)\n",
    "df['timestamp'] = pd.to_datetime(df.timestamp)\n",
    "df.sort_values(by=['timestamp','participantId'],ascending=True, inplace=True)\n",
    "data = df.to_numpy()"
   ]
  },
  {
   "cell_type": "code",
   "execution_count": 35,
   "outputs": [],
   "source": [
    "cats = df.category.unique()\n",
    "pId = df.participantId.unique()\n",
    "\n",
    "res = {}\n",
    "for part in pId:\n",
    "    res[part] = {}\n",
    "    for cat in cats:\n",
    "        res[part][cat] = 0\n"
   ],
   "metadata": {
    "collapsed": false,
    "pycharm": {
     "name": "#%%\n"
    }
   }
  },
  {
   "cell_type": "code",
   "execution_count": 36,
   "outputs": [],
   "source": [
    "for row in data:\n",
    "    res[row[1]][row[3]] += row[4]\n",
    "\n",
    "#np.insert(cats,0, 'participantId')"
   ],
   "metadata": {
    "collapsed": false,
    "pycharm": {
     "name": "#%%\n"
    }
   }
  },
  {
   "cell_type": "code",
   "execution_count": 37,
   "outputs": [
    {
     "name": "stdout",
     "output_type": "stream",
     "text": [
      "Finish\n"
     ]
    }
   ],
   "source": [
    "import csv\n",
    "from io import StringIO\n",
    "\n",
    "\n",
    "with open('/Users/franciscochoi/Desktop/infovis/tpVast/res/ej14.csv', 'w', encoding='UTF8', newline='') as f:\n",
    "    writer = csv.writer(f)\n",
    "    f.write(\"participantId\" + \",\")\n",
    "    writer.writerow(cats)\n",
    "    it = 0\n",
    "    for k in res:\n",
    "        strRow = str(pId[it])\n",
    "        for dk in res[k]:\n",
    "            strRow += \",\" + str(res[k][dk])\n",
    "        strRow += \"\\n\"\n",
    "        f.write(strRow)\n",
    "\n",
    "        it += 1\n",
    "\n",
    "f.close()\n",
    "print(\"Finish\")"
   ],
   "metadata": {
    "collapsed": false,
    "pycharm": {
     "name": "#%%\n"
    }
   }
  }
 ],
 "metadata": {
  "kernelspec": {
   "display_name": "Python 3",
   "language": "python",
   "name": "python3"
  },
  "language_info": {
   "codemirror_mode": {
    "name": "ipython",
    "version": 2
   },
   "file_extension": ".py",
   "mimetype": "text/x-python",
   "name": "python",
   "nbconvert_exporter": "python",
   "pygments_lexer": "ipython2",
   "version": "2.7.6"
  }
 },
 "nbformat": 4,
 "nbformat_minor": 0
}